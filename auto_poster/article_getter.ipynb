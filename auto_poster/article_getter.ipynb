{
 "cells": [
  {
   "cell_type": "code",
   "execution_count": 1,
   "metadata": {},
   "outputs": [],
   "source": [
    "import os\n",
    "import time\n",
    "from datetime import datetime\n",
    "from selenium import webdriver\n",
    "from selenium.webdriver.common.by import By"
   ]
  },
  {
   "cell_type": "code",
   "execution_count": 2,
   "metadata": {},
   "outputs": [],
   "source": [
    "class parm_config():\n",
    "    def __init__(self, arg_site=None, \n",
    "                 arg_subject=(), \n",
    "                 arg_category=None,\n",
    "                 arg_dirName=None): # arg_url=None\n",
    "        # super().__init__(**kwargs)\n",
    "        self.site = arg_site\n",
    "        self.subject = arg_subject\n",
    "        self.category = arg_category\n",
    "        self.dirName = arg_dirName\n",
    "        # self.url = arg_url\n",
    "        self.now = str(datetime.now().strftime(\"%Y_%m_%d\"))\n",
    "    "
   ]
  },
  {
   "cell_type": "code",
   "execution_count": 3,
   "metadata": {},
   "outputs": [],
   "source": [
    "def ad_closer(arg_config):\n",
    "    cfgs = arg_config\n",
    "    \n",
    "    post_page = cfgs.browser.findelements(By.ID, \"bx-close-inside-2133287\")\n",
    "    for i, href in enumerate(post_page):\n",
    "        if i == 0:\n",
    "            href.click()\n",
    "            print(\"log: pop-up is closed.\")\n",
    "        else:\n",
    "            print(\"None\")"
   ]
  },
  {
   "cell_type": "code",
   "execution_count": 16,
   "metadata": {},
   "outputs": [],
   "source": [
    "def get_article(arg_config):\n",
    "        # arg_url = self.url\n",
    "        cfgs = arg_config\n",
    "        tmp_txt = None\n",
    "        news_site = cfgs.site\n",
    " \n",
    "        url_dict = {\"cnn\": \"https://edition.cnn.com/health\", \n",
    "                    \"h_cs\": \"https://health.chosun.com/list.html?menu=01010107&nowcode=01010107&pn=1\"}\n",
    "        \n",
    "        site_browser = webdriver.Chrome()\n",
    "        site_browser.maximize_window()\n",
    "        site_browser.get(url_dict[news_site])\n",
    "        \n",
    "        if news_site == \"cnn\":\n",
    "            cnn_subject = cfgs.subject\n",
    "            cnn_category = cfgs.category\n",
    "            \n",
    "            # access to article\n",
    "            find_category = site_browser.find_elements(By.CLASS_NAME, \"header__nav-item-link\")\n",
    "            for i, href in enumerate(find_category):\n",
    "                print(i, href.text)\n",
    "                if cnn_category == href.text:\n",
    "                    print(\"category: \" + cnn_category)\n",
    "                    href.click()\n",
    "                    break\n",
    "                    # site_browser.minimize_window()\n",
    "                \n",
    "                # if i == 0:\n",
    "                #     pass\n",
    "                # elif i == 1 and cnn_category == cnn_subject[0]:\n",
    "                #     href.click()\n",
    "                #     print(\"log: \" + cnn_category + \" is selected\")\n",
    "                #     site_browser.minimize_window()\n",
    "                #     # break\n",
    "                # elif i == 2 and cnn_category == cnn_subject[1]:\n",
    "                #     href.click()\n",
    "                #     site_browser.minimize_window()\n",
    "                #     # break\n",
    "                # elif i == 3 and cnn_category == cnn_subject[2]:\n",
    "                #     href.click()\n",
    "                #     site_browser.minimize_window()\n",
    "                #     # break\n",
    "                # elif i == 4 and cnn_category == cnn_subject[3]:\n",
    "                #     href.click()\n",
    "                #     site_browser.minimize_window()\n",
    "                #     # break\n",
    "                # elif i == 5 and cnn_category == cnn_subject[4]:\n",
    "                #     href.click()\n",
    "                #     site_browser.minimize_window()\n",
    "                #     # break\n",
    "                else:\n",
    "                    print(\"Error: No Category Matched\")\n",
    "                    \n",
    "            # CNN ver0.2 - with category\n",
    "            fst_article = site_browser.find_elements(By.CLASS_NAME, \"media\")\n",
    "            for i, href in enumerate(fst_article):\n",
    "                if i == 0:\n",
    "                    href.click()\n",
    "                    break\n",
    "\n",
    "            # article crawling                    \n",
    "            copy_article = site_browser.find_elements(By.CLASS_NAME, 'article__content')\n",
    "            for i, paragraph in enumerate(copy_article):\n",
    "                print(\"log: [article] >> \" + paragraph.text)\n",
    "                print(\"log: [legth] >> \" + len(paragraph.text))\n",
    "                tmp_txt = paragraph.text\n",
    "                site_browser.quit()\n",
    "            \n",
    "            return tmp_txt\n",
    "            # return paragraph.text\n",
    "            \n",
    "        elif news_site == \"h_cs\":\n",
    "            site_browser.minimize_window()\n",
    "            \n",
    "        else:\n",
    "            pass"
   ]
  },
  {
   "cell_type": "code",
   "execution_count": 17,
   "metadata": {},
   "outputs": [],
   "source": [
    "site_list = {\"cnn\": \"cnn\", \"h_cs\": \"h_cs\"}\n",
    "arti_subject = (\"Fitness\", \"Food\", \"Sleep\", \"Mindfulness\", \"Relationships\")\n",
    "dirName = \"articles\"    "
   ]
  },
  {
   "cell_type": "code",
   "execution_count": 18,
   "metadata": {},
   "outputs": [],
   "source": [
    "x = parm_config(\n",
    "        arg_site=site_list['cnn'], arg_subject=arti_subject, \n",
    "        arg_category=\"Fitness\", arg_dirName=dirName\n",
    ")"
   ]
  },
  {
   "cell_type": "code",
   "execution_count": 19,
   "metadata": {},
   "outputs": [
    {
     "name": "stdout",
     "output_type": "stream",
     "text": [
      "0 Life, But Better\n",
      "Error: No Category Matched\n",
      "1 Fitness\n",
      "category: Fitness\n",
      "None\n"
     ]
    }
   ],
   "source": [
    "result = get_article(x)\n",
    "print(result)"
   ]
  },
  {
   "cell_type": "code",
   "execution_count": null,
   "metadata": {},
   "outputs": [],
   "source": []
  }
 ],
 "metadata": {
  "kernelspec": {
   "display_name": "ai",
   "language": "python",
   "name": "python3"
  },
  "language_info": {
   "codemirror_mode": {
    "name": "ipython",
    "version": 3
   },
   "file_extension": ".py",
   "mimetype": "text/x-python",
   "name": "python",
   "nbconvert_exporter": "python",
   "pygments_lexer": "ipython3",
   "version": "3.7.15"
  },
  "orig_nbformat": 4
 },
 "nbformat": 4,
 "nbformat_minor": 2
}
