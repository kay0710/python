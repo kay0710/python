{
 "cells": [
  {
   "attachments": {},
   "cell_type": "markdown",
   "metadata": {},
   "source": [
    "# D2 - Keywords"
   ]
  },
  {
   "cell_type": "code",
   "execution_count": 1,
   "metadata": {},
   "outputs": [],
   "source": [
    "import os\n",
    "import time\n",
    "from datetime import datetime\n",
    "from selenium import webdriver\n",
    "from selenium.webdriver.common.by import By"
   ]
  },
  {
   "cell_type": "code",
   "execution_count": 8,
   "metadata": {},
   "outputs": [
    {
     "name": "stdout",
     "output_type": "stream",
     "text": [
      "2023_52_12\n"
     ]
    }
   ],
   "source": [
    "now = datetime.now()\n",
    "now = now.strftime(\"%Y_%m_%d\")\n",
    "print(str(now))\n",
    "\n",
    "d2_url = \"https://datalab.naver.com/\"\n",
    "\n",
    "browser = webdriver.Chrome()\n",
    "browser.maximize_window()\n",
    "browser.get(d2_url)"
   ]
  },
  {
   "cell_type": "code",
   "execution_count": 9,
   "metadata": {},
   "outputs": [],
   "source": [
    "category_btn = browser.find_elements(By.CLASS_NAME, \"select_btn\")\n",
    "for i, href in enumerate(category_btn):\n",
    "    # print(i, href.text)\n",
    "    if i == 0:\n",
    "        href.click()"
   ]
  },
  {
   "cell_type": "code",
   "execution_count": 13,
   "metadata": {},
   "outputs": [],
   "source": [
    "select_category = browser.find_elements(By.CLASS_NAME, \"option\")\n",
    "for i, href in enumerate(select_category):\n",
    "    # print(i, href.text)\n",
    "    if href.text == \"식품\":\n",
    "        href.click()\n",
    "        print(\"select: \" + href.text)"
   ]
  },
  {
   "cell_type": "code",
   "execution_count": 18,
   "metadata": {},
   "outputs": [
    {
     "name": "stdout",
     "output_type": "stream",
     "text": [
      "\n",
      "\n",
      "\n",
      "\n",
      "\n",
      "\n",
      "\n",
      "\n",
      "1 유산균\n",
      "2 콜라겐\n",
      "3 락토페린\n",
      "4 프로바이오틱스\n",
      "5 글루타치온\n",
      "6 아르기닌\n",
      "7 단백질보충제\n",
      "8 양배추즙\n",
      "9 오메가3\n",
      "10 비타민d\n",
      "1 유산균\n",
      "2 락토페린\n",
      "3 콜라겐\n",
      "4 프로바이오틱스\n",
      "5 글루타치온\n",
      "6 아르기닌\n",
      "7 양배추즙\n",
      "8 단백질보충제\n",
      "9 오메가3\n",
      "10 콘드로이친\n",
      "1 유산균\n",
      "2 락토페린\n",
      "3 콜라겐\n",
      "4 프로바이오틱스\n",
      "5 양배추즙\n",
      "6 아르기닌\n",
      "7 글루타치온\n",
      "8 단백질보충제\n",
      "9 콘드로이친\n",
      "10 오메가3\n",
      "1 유산균\n",
      "2 콜라겐\n",
      "3 락토페린\n",
      "4 양배추즙\n",
      "5 프로바이오틱스\n",
      "6 아르기닌\n",
      "7 글루타치온\n",
      "8 단백질보충제\n",
      "9 콘드로이친\n",
      "10 오메가3\n"
     ]
    }
   ],
   "source": [
    "crawling_rank = browser.find_elements(By.CLASS_NAME, \"rank_list\")\n",
    "for i, href in enumerate(crawling_rank):\n",
    "    print(href.text)"
   ]
  },
  {
   "cell_type": "code",
   "execution_count": null,
   "metadata": {},
   "outputs": [],
   "source": []
  }
 ],
 "metadata": {
  "kernelspec": {
   "display_name": "ai",
   "language": "python",
   "name": "python3"
  },
  "language_info": {
   "codemirror_mode": {
    "name": "ipython",
    "version": 3
   },
   "file_extension": ".py",
   "mimetype": "text/x-python",
   "name": "python",
   "nbconvert_exporter": "python",
   "pygments_lexer": "ipython3",
   "version": "3.7.15"
  },
  "orig_nbformat": 4
 },
 "nbformat": 4,
 "nbformat_minor": 2
}
