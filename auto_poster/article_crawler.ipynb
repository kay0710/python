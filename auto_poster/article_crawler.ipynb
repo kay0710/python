{
 "cells": [
  {
   "attachments": {},
   "cell_type": "markdown",
   "metadata": {},
   "source": [
    "# Article Crawler"
   ]
  },
  {
   "cell_type": "code",
   "execution_count": 1,
   "metadata": {},
   "outputs": [],
   "source": [
    "# import sys\n",
    "# sys.path.append('c:\\\\programdata\\\\anaconda3\\\\envs\\\\ai\\\\lib\\\\site-packages')"
   ]
  },
  {
   "cell_type": "code",
   "execution_count": 2,
   "metadata": {},
   "outputs": [
    {
     "name": "stdout",
     "output_type": "stream",
     "text": [
      "2023_03_31_07_34_56\n"
     ]
    }
   ],
   "source": [
    "import os\n",
    "from datetime import datetime\n",
    "now = datetime.now()\n",
    "now = now.strftime(\"%Y_%m_%d\")\n",
    "print(str(now))"
   ]
  },
  {
   "cell_type": "code",
   "execution_count": null,
   "metadata": {},
   "outputs": [],
   "source": [
    "import pandas as pd\n",
    "from selenium import webdriver\n",
    "from selenium.webdriver.common.by import By\n",
    "\n",
    "# Turn on chrome browser\n",
    "browser = webdriver.Chrome()\n",
    "#browser.maximize_window()\n",
    "browser.minimize_window()"
   ]
  },
  {
   "cell_type": "code",
   "execution_count": 4,
   "metadata": {},
   "outputs": [],
   "source": [
    "# go to url\n",
    "\n",
    "# https://health.chosun.com/list.html?menu=01010107&nowcode=01010107&pn=1\n",
    "url = \"https://health.chosun.com/list.html?menu=01010107&nowcode=01010107&pn=1\"\n",
    "browser.get(url)"
   ]
  },
  {
   "cell_type": "code",
   "execution_count": 5,
   "metadata": {},
   "outputs": [],
   "source": [
    "# click the first article in the list\n",
    "fst_article_thumb = browser.find_elements(By.CLASS_NAME, 'thumb')\n",
    "for i, href in enumerate(fst_article_thumb):\n",
    "    if i == 0:\n",
    "        href.click()\n",
    "    else:\n",
    "        fst_article_desc = browser.find_elements(By.CLASS_NAME, 'desc')\n",
    "        for i, href in enumerate(fst_article_desc):\n",
    "            if i == 0:\n",
    "                href.click()"
   ]
  },
  {
   "cell_type": "code",
   "execution_count": 6,
   "metadata": {},
   "outputs": [],
   "source": [
    "# copy article\n",
    "tmp_txt = None\n",
    "copy_article = browser.find_elements(By.CLASS_NAME, 'par')\n",
    "for i, par in enumerate(copy_article):\n",
    "    # print(par.text)\n",
    "    # print(len(par.text))\n",
    "    tmp_txt = par.text"
   ]
  },
  {
   "cell_type": "code",
   "execution_count": 7,
   "metadata": {},
   "outputs": [
    {
     "name": "stdout",
     "output_type": "stream",
     "text": [
      "Complete save txt file: 2023_03_31_07_34_56\n"
     ]
    }
   ],
   "source": [
    "dir_name = \"articles\"\n",
    "if not os.path.exists(dir_name):\n",
    "    os.mkdir(dir_name)\n",
    "\n",
    "with open(dir_name + '/' + str(now) + '.txt', 'w', encoding='utf-8') as f:\n",
    "    f.write(tmp_txt)\n",
    "    print(\"Complete save txt file: \" + str(now))\n",
    "    \n",
    "browser.quit()"
   ]
  }
 ],
 "metadata": {
  "kernelspec": {
   "display_name": "ai",
   "language": "python",
   "name": "python3"
  },
  "language_info": {
   "codemirror_mode": {
    "name": "ipython",
    "version": 3
   },
   "file_extension": ".py",
   "mimetype": "text/x-python",
   "name": "python",
   "nbconvert_exporter": "python",
   "pygments_lexer": "ipython3",
   "version": "3.7.15"
  },
  "orig_nbformat": 4,
  "vscode": {
   "interpreter": {
    "hash": "e5cdae407986fbcf9f40eb4f2caf8136385e94546bed8444298080b1cba2358b"
   }
  }
 },
 "nbformat": 4,
 "nbformat_minor": 2
}
