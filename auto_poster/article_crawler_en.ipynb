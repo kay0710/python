{
 "cells": [
  {
   "attachments": {},
   "cell_type": "markdown",
   "metadata": {},
   "source": [
    "# Article Crawler"
   ]
  },
  {
   "cell_type": "code",
   "execution_count": 1,
   "metadata": {},
   "outputs": [],
   "source": [
    "# import sys\n",
    "# sys.path.append('c:\\\\programdata\\\\anaconda3\\\\envs\\\\ai\\\\lib\\\\site-packages')"
   ]
  },
  {
   "cell_type": "code",
   "execution_count": 2,
   "metadata": {},
   "outputs": [],
   "source": [
    "import os\n",
    "import time\n",
    "from datetime import datetime\n",
    "from selenium import webdriver\n",
    "from selenium.webdriver.common.by import By"
   ]
  },
  {
   "cell_type": "code",
   "execution_count": 3,
   "metadata": {},
   "outputs": [
    {
     "name": "stdout",
     "output_type": "stream",
     "text": [
      "2023_04_07\n"
     ]
    }
   ],
   "source": [
    "# set the file name as date, time\n",
    "now = datetime.now()\n",
    "now = now.strftime(\"%Y_%m_%d\")\n",
    "print(str(now))\n",
    "\n",
    "subject = (\"Fitness\", \"Food\", \"Sleep\", \"Mindfulness\", \"Relationships\")\n",
    "\n",
    "CATEGORY = None\n",
    "CATEGORY = subject[0]"
   ]
  },
  {
   "cell_type": "code",
   "execution_count": 4,
   "metadata": {},
   "outputs": [],
   "source": [
    "# Turn on chrome browser\n",
    "browser = webdriver.Chrome()\n",
    "browser.maximize_window()\n",
    "time.sleep(1)\n",
    "#browser.minimize_window()\n",
    "\n",
    "# go to url\n",
    "url = \"https://edition.cnn.com/health\"\n",
    "browser.get(url)"
   ]
  },
  {
   "cell_type": "code",
   "execution_count": 5,
   "metadata": {},
   "outputs": [],
   "source": [
    "# pop-up ad closer\n",
    "def ad_closer():\n",
    "    post_page = browser.find_elements(By.ID, \"bx-close-inside-2133287\")\n",
    "    for i, href in enumerate(post_page):\n",
    "        if i == 0:\n",
    "            href.click()\n",
    "        else:\n",
    "            print(\"None\")"
   ]
  },
  {
   "cell_type": "code",
   "execution_count": 6,
   "metadata": {},
   "outputs": [],
   "source": [
    "ad_closer()\n",
    "\n",
    "# choose category\n",
    "set_category = browser.find_elements(By.CLASS_NAME, \"header__nav-item-link\")\n",
    "for i, href in enumerate(set_category):\n",
    "    # print(i, href.text)\n",
    "    # if CATEGORY == href.text:\n",
    "    #     print(\"category: \" + cnn_category)\n",
    "    #     href.click()\n",
    "    #     break\n",
    "    \n",
    "    if i == 1:\n",
    "        if CATEGORY == subject[0]:\n",
    "            href.click()\n",
    "            browser.minimize_window()\n",
    "            break\n",
    "    elif i == 2:\n",
    "        if CATEGORY == subject[1]:\n",
    "            href.click()\n",
    "            browser.minimize_window()\n",
    "            break\n",
    "    elif i == 3:\n",
    "        if CATEGORY == subject[2]:\n",
    "            href.click()\n",
    "            browser.minimize_window()\n",
    "            break\n",
    "    elif i == 4:\n",
    "        if CATEGORY == subject[3]:\n",
    "            href.click()\n",
    "            browser.minimize_window()\n",
    "            break\n",
    "    elif i == 5:\n",
    "        if CATEGORY == subject[4]:\n",
    "            href.click()\n",
    "            browser.minimize_window()\n",
    "            break\n",
    "    else:\n",
    "        if i == 0:\n",
    "            pass\n",
    "        else:\n",
    "            print(\"Error: No Category Matched\")"
   ]
  },
  {
   "cell_type": "code",
   "execution_count": 7,
   "metadata": {},
   "outputs": [],
   "source": [
    "ad_closer()\n",
    "\n",
    "# click the first article in the list\n",
    "\n",
    "# CNN ver0.2 - with category\n",
    "fst_article = browser.find_elements(By.CLASS_NAME, \"media\")\n",
    "for i, href in enumerate(fst_article):\n",
    "    if i == 0:\n",
    "        href.click()\n",
    "        break\n",
    "\n",
    "# # CNN ver0.1 - original without category\n",
    "# class_name = \"stack\"\n",
    "# fst_article = browser.find_elements(By.CLASS_NAME, class_name)\n",
    "# for i, href in enumerate(fst_article):\n",
    "#     if i == 0:\n",
    "#         href.click()\n",
    "#         break\n",
    "\n",
    "## health chojun ver.\n",
    "# for i, href in enumerate(fst_article):\n",
    "#     if i == 0:\n",
    "#         href.click()\n",
    "#         break\n",
    "#     else:\n",
    "#         fst_article_desc = browser.find_elements(By.CLASS_NAME, 'desc')\n",
    "#         for i, href in enumerate(fst_article_desc):\n",
    "#             if i == 0:\n",
    "#                 href.click()\n",
    "#                 break"
   ]
  },
  {
   "cell_type": "code",
   "execution_count": 8,
   "metadata": {},
   "outputs": [
    {
     "name": "stdout",
     "output_type": "stream",
     "text": [
      "Sign up for CNN’s Fitness, But Better newsletter series. Our seven-part guide will help you ease into a healthy routine, backed by experts.\n",
      "CNN\n",
      " — \n",
      "These days, many people find it hard to unplug. Inflation, global warming and gun violence are on the rise. Bullies proliferate on social media. The 24/7 news cycle constantly blares distressing news, and people often face difficult personal or professional situations.\n",
      "About half of Americans said they experienced stress within the past day, according to a Gallup Poll survey from last October, a finding that was consistent for most of 2022. Personal finances and current and political events were major sources of stress for one-third or more of adults, a survey from CNN in partnership with the Kaiser Family Foundation found in October.\n",
      "Want to sleep better? Lift some weights\n",
      "Stress isn’t inherently bad, said Richard Scrivener, a personal trainer and product development manager at London’s Trainfitness, an education technology company. Stressing your muscles through weight training, for example, leads to beneficial changes. In addition, short-term stress in healthy people typically isn’t a hazard. “But if stress is continuous, especially in older or unhealthy individuals, the long-term effects of the response to stress may lead to significant health issues,” Scrivener said.\n",
      "Can stress make you sick?\n",
      "Stress occurs when you face a new, unpredictable or threatening situation, and you don’t know whether you can manage it successfully, said clinical psychologist Dr. Karmel Choi, an assistant professor in the Center for Precision Psychiatry at Harvard Medical School and Massachusetts General Hospital in Boston.\n",
      "When you’re physically or emotionally stressed, your body snaps into fight-or-flight mode. Cortisol rushes through your system, signaling your body to release glucose. Glucose, in turn, provides energy to your muscles so you are better prepared to fight off a threat or run away. During this cortisol rush, your heart rate may rise, your breathing may become rapid, and you may feel dizzy or nauseated.\n",
      "If you truly needed to fight or flee a predator, your cortisol levels would drop back down once the conflict was over. When you’re chronically stressed, however, those levels stay elevated.\n",
      "Stress can be good for you, and here's why\n",
      "Remaining in that heightened state is no good since high levels of cortisol can exacerbate health conditions such as cardiovascular disease, diabetes and chronic gastrointestinal problems, according to the Cleveland Clinic. Stress can also cause or contribute to anxiety, irritability, poor sleep, substance abuse, chronic distrust or worry, and more.\n",
      "How to relieve stress\n",
      "Luckily, there are many ways to combat stress. Keep a daily routine, get plenty of sleep, eat healthy foods, and limit your time following the news or engaging in social media, recommends the World Health Organization. It also helps to stay connected with others and to employ calming practices such as meditation and deep breathing. One of the most successful tools, though, is physical activity.\n",
      "Get stress relief by exercising outdoors. Spending time in nature can boost mental and physical health, according to research.\n",
      "“Exercise is remarkably effective for managing psychological stress,” Choi said. “Exercise doesn’t remove what’s causing the stress, but it can boost mood, reduce tension and improve sleep — all of which are impacted by stress — and ultimately this can support people to approach their challenges in a more balanced way.”\n",
      "When stress is coming at you from all sides, it's time for a breather. Here are 6 ways to take a break\n",
      "Numerous studies back up the positive effect of exercise on stress. Physical activity, and especially exercise, significantly reduced the symptoms of anxiety in a study published in Advances in Experimental Medicine and Biology, for example. Similarly, a Frontiers in Psychology study of university students found that regularly engaging in low- to moderate-intensity aerobic exercises for six weeks helped alleviate their depressive symptoms and perceived stress.\n",
      "Get moving to release feel-good chemicals\n",
      "The reason exercise is so effective in squashing stress is fairly simple. Exercise causes your body to produce more endorphins, which are neurotransmitters that boost your mood. Movement also combats elevated levels of the stress hormone cortisol while improving blood flow.\n",
      "Aerobic workouts, such as running, dancing and boxing, produce lots of mood-boosting endorphins that relieve stress. But gentler exercise such as walking works, too.\n",
      "Jessica Honig, a clinical social worker in Phoenixville, Pennsylvania, said exercise empowers her clients because they realize that, through movement, they hold the key to reset and lessen their stress. “It’s also one of the best ways to pause — to break up or revive energy from a spiraling, unproductive mindset,” she said.\n",
      "What types of exercise are best? While studies show aerobic exercise, such as swimming, running, dancing and boxing, may be the most efficient at getting mood-boosting endorphins rushing through your body, gentler forms of physical activity work, too. Think yoga, strength training and walking. In addition, sometimes less is more.\n",
      "“What we’re seeing from the data,” Choi said, “is you actually need to move less than the recommended guidelines to see positive effects on mood.”\n",
      "VIDEO\n",
      "Start your day with this 5-minute yoga routine\n",
      "Since stress loads may change weekly or even daily, Scrivener said it can be helpful to alter your exercise based on your mood. Feeling a cheery 8 on a scale of 1 to 10? Then go for a run. Barely hitting a 3? Opt for something gentle. “This could be a 15-minute stretch followed by a light cycle for 15 minutes, or a 30-minute swim followed by a sauna session,” he said.\n",
      "Make exercise a social activity\n",
      "Since social engagement is a powerful protective factor for positive mental health, Choi encourages exercising with others. Studies also have shown being out in nature boosts your mood, so exercising outside with friends may provide even more benefits.\n",
      "Combine exercise and social activity by scheduling regular workouts with a neighbor or joining a class.\n",
      "Scientists continue to study the link between stress and physical activity. A small study published recently found that combining mindfulness and physical activity can improve sleep and help regulate emotions more than either alone, Choi said. She also warned that people need to be careful not to go overboard on exercise or rely on it exclusively for coping with challenges. Doing so can backfire and create more stress.\n",
      "It’s also important to remember that humans are geared to release stress physically, no matter their age, said Honig, the social worker. “We see in children the permission to throw their body into pillows to release intense emotions,” she said. “We do not outgrow a need to physically release stress. We merely lose the outlets and social normalization of it.”\n",
      "Sign up for CNN’s Stress, But Less newsletter. Our six-part mindfulness guide will inform and inspire you to reduce stress while learning how to harness it.\n",
      "\n",
      "Melanie Radzicki McManus is a freelance writer who specializes in hiking, travel and fitness.\n"
     ]
    }
   ],
   "source": [
    "ad_closer()\n",
    "\n",
    "## copy article\n",
    "tmp_txt = None\n",
    "\n",
    "## CNN ver.\n",
    "copy_article = browser.find_elements(By.CLASS_NAME, 'article__content')\n",
    "for i, text in enumerate(copy_article):\n",
    "    print(text.text)\n",
    "    # print(paragraph.text)\n",
    "    # print(len(paragraph.text))\n",
    "    \n",
    "    tmp_txt = text.text\n",
    "\n",
    "## heath chosun ver.\n",
    "# copy_article = browser.find_elements(By.CLASS_NAME, 'par')\n",
    "# for i, par in enumerate(copy_article):\n",
    "#     # print(par.text)\n",
    "#     # print(len(par.text))\n",
    "#     tmp_txt = par.text"
   ]
  },
  {
   "cell_type": "code",
   "execution_count": 9,
   "metadata": {},
   "outputs": [
    {
     "name": "stdout",
     "output_type": "stream",
     "text": [
      "Complete save txt file: 2023_04_07\n"
     ]
    }
   ],
   "source": [
    "ad_closer()\n",
    "\n",
    "dir_name = \"articles\"\n",
    "if not os.path.exists(dir_name):\n",
    "    os.mkdir(dir_name)\n",
    "\n",
    "with open(dir_name + '/' + str(now) + '.txt', 'w', encoding='utf-8') as f:\n",
    "    f.write(tmp_txt)\n",
    "    print(\"Complete save txt file: \" + str(now))\n",
    "    \n",
    "browser.quit()"
   ]
  },
  {
   "cell_type": "code",
   "execution_count": null,
   "metadata": {},
   "outputs": [],
   "source": []
  }
 ],
 "metadata": {
  "kernelspec": {
   "display_name": "ai",
   "language": "python",
   "name": "python3"
  },
  "language_info": {
   "codemirror_mode": {
    "name": "ipython",
    "version": 3
   },
   "file_extension": ".py",
   "mimetype": "text/x-python",
   "name": "python",
   "nbconvert_exporter": "python",
   "pygments_lexer": "ipython3",
   "version": "3.7.15"
  },
  "orig_nbformat": 4,
  "vscode": {
   "interpreter": {
    "hash": "e5cdae407986fbcf9f40eb4f2caf8136385e94546bed8444298080b1cba2358b"
   }
  }
 },
 "nbformat": 4,
 "nbformat_minor": 2
}
