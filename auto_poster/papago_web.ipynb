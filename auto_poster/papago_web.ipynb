{
 "cells": [
  {
   "attachments": {},
   "cell_type": "markdown",
   "metadata": {},
   "source": [
    "# Papago web ver.\n",
    "\n",
    "> conda install webdriver_manager\n",
    ">\n",
    "> pip install webdriver_manager"
   ]
  },
  {
   "cell_type": "code",
   "execution_count": 1,
   "metadata": {},
   "outputs": [
    {
     "name": "stdout",
     "output_type": "stream",
     "text": [
      "2023_04_06\n"
     ]
    }
   ],
   "source": [
    "from selenium import webdriver\n",
    "from selenium.webdriver.chrome.service import Service\n",
    "from selenium.webdriver.common.by import By\n",
    "from webdriver_manager.chrome import ChromeDriverManager\n",
    "\n",
    "import os\n",
    "from datetime import datetime\n",
    "\n",
    "now = datetime.now()\n",
    "now = now.strftime(\"%Y_%m_%d\")\n",
    "print(str(now))\n",
    "fileName = str(now) + '.txt'"
   ]
  },
  {
   "cell_type": "code",
   "execution_count": 2,
   "metadata": {},
   "outputs": [],
   "source": [
    "# Do it once\n",
    "# def set_chrome_driver(headless=True):\n",
    "#     options = webdriver.ChromeOptions()\n",
    "#     if headless:\n",
    "#         options.add_argument('headless')\n",
    "#     options.add_argument(\"user-agent=Mozilla/5.0 (Windows NT 10.0; Win64; x64) AppleWebKit/537.36 (KHTML, like Gecko) Chrome/70.0.3538.77 Safari/537.36\")\n",
    "#     driver = webdriver.Chrome(service=Service(ChromeDriverManager().install()), options=options)\n",
    "#     return driver"
   ]
  },
  {
   "cell_type": "code",
   "execution_count": 3,
   "metadata": {},
   "outputs": [],
   "source": [
    "# def read_txt(arg_fileName):\n",
    "#     file = open(\"articles/\"+arg_fileName, 'r', encoding='utf-8')\n",
    "#     while True:\n",
    "#         line = file.readline()\n",
    "#         if not line:\n",
    "#             break\n",
    "#         print(line)\n",
    "#     file.close()\n",
    "    \n",
    "#     tmp_ques = line\n",
    "    \n",
    "#     return tmp_ques"
   ]
  },
  {
   "cell_type": "code",
   "execution_count": 4,
   "metadata": {},
   "outputs": [],
   "source": [
    "import time\n",
    "from selenium.common.exceptions import NoSuchElementException\n",
    "\n",
    "# input_txt = read_txt(fileName)\n",
    "papago_url = \"https://papago.naver.com/\""
   ]
  },
  {
   "cell_type": "code",
   "execution_count": 5,
   "metadata": {},
   "outputs": [],
   "source": [
    "def papago_translate(arg_fileName):\n",
    "    try:\n",
    "        # papago = set_chrome_driver(False)\n",
    "        # papago.get(f'https://papago.naver.com/')\n",
    "        \n",
    "        # Turn on chrome browser\n",
    "        papago_browser = webdriver.Chrome()\n",
    "        papago_browser.maximize_window()\n",
    "        papago_browser.get(papago_url)\n",
    "        time.sleep(2)\n",
    "        \n",
    "        # read file & put it to papago (web page)\n",
    "        file = open(\"articles/\"+arg_fileName, 'r', encoding='utf-8')\n",
    "        while True:\n",
    "            line = file.readline()\n",
    "            if not line:\n",
    "                break\n",
    "            #print(line)\n",
    "            papago_browser.find_element(By.ID, 'txtSource').send_keys(line)\n",
    "        file.close()\n",
    "\n",
    "        # click the \"translate button\" for check\n",
    "        papago_browser.find_element(By.ID, 'btnTranslate').click()\n",
    "        time.sleep(5)\n",
    "\n",
    "        # get the result of translation\n",
    "        output_txt = papago_browser.find_element(By.ID, 'targetEditArea')\n",
    "        result = output_txt.text\n",
    "        \n",
    "        # save the result as a txt file\n",
    "        dir_name = \"articles\"\n",
    "        if not os.path.exists(dir_name):\n",
    "            os.mkdir(dir_name)\n",
    "\n",
    "        with open(dir_name + '/' + str(now) + '_trKR.txt', 'w', encoding='utf-8') as f:\n",
    "            f.write(result)\n",
    "            print(\"Complete save txt file: \" + str(now) + \"_trKR.txt\")\n",
    "            \n",
    "        #print(result)\n",
    "        \n",
    "    except NoSuchElementException:\n",
    "        result = 'Translate Error'\n",
    "    finally:\n",
    "        papago_browser.quit()\n",
    "    return result"
   ]
  },
  {
   "cell_type": "code",
   "execution_count": 6,
   "metadata": {},
   "outputs": [
    {
     "name": "stdout",
     "output_type": "stream",
     "text": [
      "Complete save txt file: 2023_04_06_trKR.txt\n"
     ]
    }
   ],
   "source": [
    "ans = papago_translate(fileName)"
   ]
  },
  {
   "cell_type": "code",
   "execution_count": 7,
   "metadata": {},
   "outputs": [
    {
     "name": "stdout",
     "output_type": "stream",
     "text": [
      "CNN의 Fitness, But Better 뉴스레터 시리즈에 가입하세요. 7부로 구성된 가이드를 통해 전문가의 도움을 받아 건강한 일상생활에 쉽게 적응할 수 있습니다.\n",
      "CNN\n",
      "—\n",
      "요즘, 많은 사람들이 플러그를 뽑는 것을 어려워합니다. 인플레이션, 지구 온난화, 총기 폭력이 증가하고 있습니다. 괴롭힘은 소셜 미디어에서 확산됩니다. 24/7 뉴스 주기는 끊임없이 괴로운 소식을 퍼뜨리고, 사람들은 종종 어려운 개인적 또는 직업적 상황에 직면합니다.\n",
      "지난 10월 갤럽 여론조사에 따르면 미국인의 약 절반이 지난 하루 안에 스트레스를 경험했다고 답했는데, 이는 2022년 대부분의 기간 동안 일관된 결과였습니다. 10월에 발견된 카이저 가족 재단과 협력하여 CNN에서 실시한 조사에 따르면, 개인 재정과 현재 및 정치적 사건은 성인의 3분의 1 이상에게 주요 스트레스 요인이었습니다.\n",
      "더 잘 자고 싶어요? 역기를 들어 올립니다\n",
      "스트레스가 본질적으로 나쁜 것은 아닙니다, 라고 교육 기술 회사인 런던 트레인피트니스의 개인 트레이너이자 제품 개발 매니저인 리차드 스크리버가 말했습니다. 예를 들어 웨이트 트레이닝을 통해 근육에 스트레스를 주는 것은 유익한 변화로 이어집니다. 게다가, 건강한 사람들의 단기적인 스트레스는 일반적으로 위험하지 않습니다. \"하지만 만약 스트레스가 특히 나이가 많거나 건강하지 못한 사람들에게 지속된다면, 스트레스에 대한 반응의 장기적인 영향은 심각한 건강 문제로 이어질 수 있습니다,\" 스크리버가 말했습니다.\n",
      "스트레스가 여러분을 아프게 할 수 있나요?\n",
      "스트레스는 새롭고, 예측할 수 없거나 위협적인 상황에 직면했을 때 발생하며, 스트레스를 성공적으로 관리할 수 있는지 여부를 알 수 없습니다, 라고 보스턴에 있는 하버드 의과대학과 매사추세츠 종합병원의 정밀 정신의학 센터의 조교수인 임상 심리학자 카멜 최 박사가 말했습니다.\n",
      "여러분이 육체적으로 혹은 감정적으로 스트레스를 받을 때, 여러분의 몸은 투쟁 혹은 도피 모드로 돌입합니다. 코르티솔은 여러분의 몸이 포도당을 방출하도록 신호를 보내면서 여러분의 몸을 통과합니다. 결국 포도당은 근육에 에너지를 공급하여 위협과 싸우거나 도망갈 준비를 더 잘 할 수 있게 합니다. 이 코르티솔이 돌진하는 동안, 여러분의 심장 박동수는 올라가고, 여러분의 호흡은 빨라지고, 여러분은 어지럽거나 메스꺼움을 느낄 수 있습니다.\n",
      "만약 여러분이 정말로 포식자와 싸우거나 도망쳐야 한다면, 여러분의 코티솔 수치는 분쟁이 끝나면 다시 떨어질 것입니다. 하지만 만성적으로 스트레스를 받을 때, 그 수치들은 계속 상승합니다.\n",
      "스트레스는 당신에게 좋을 수 있고, 여기에 이유가 있습니다\n",
      "클리블랜드 클리닉에 따르면, 높은 수준의 코르티솔은 심혈관 질환, 당뇨병, 만성 위장 문제와 같은 건강 상태를 악화시킬 수 있기 때문에, 그렇게 높아진 상태를 유지하는 것은 좋지 않습니다. 스트레스는 또한 불안, 짜증, 수면 부족, 약물 남용, 만성적인 불신 또는 걱정 등을 유발하거나 기여할 수 있습니다.\n",
      "스트레스 해소법\n",
      "다행히도, 스트레스와 싸우는 많은 방법들이 있습니다. 매일 일과를 유지하고, 충분한 수면을 취하고, 건강에 좋은 음식을 먹고, 뉴스를 보거나 소셜 미디어에 참여하는 시간을 제한하라고 세계보건기구는 권고합니다. 그것은 또한 다른 사람들과 연결을 유지하고 명상과 깊은 호흡과 같은 진정한 실천을 하는 것을 돕습니다. 하지만 가장 성공적인 도구 중 하나는 신체 활동입니다.\n",
      "야외에서 운동을 함으로써 스트레스를 해소하세요. 연구에 따르면 자연에서 시간을 보내는 것은 정신적, 신체적 건강을 증진시킬 수 있습니다.\n",
      "이네스바즈다르/아도베 주식\n",
      "\"운동은 심리적 스트레스를 관리하는 데 현저하게 효과적입니다,\" 라고 최씨가 말했습니다. \"운동은 스트레스의 원인이 되는 것을 제거하는 것이 아니라, 스트레스에 의해 영향을 받는 기분을 높이고, 긴장을 줄이고, 수면을 개선할 수 있으며, 궁극적으로 이것은 사람들이 그들의 도전에 더 균형 잡힌 방식으로 접근할 수 있도록 도와줄 수 있습니다.\"\n",
      "스트레스가 모든 면에서 여러분에게 닥칠 때, 휴식을 취할 시간입니다. 여기 휴식을 취하는 6가지 방법이 있습니다\n",
      "많은 연구들이 운동이 스트레스에 미치는 긍정적인 효과를 뒷받침합니다. 예를 들어, 실험 의학과 생물학의 발전에 발표된 연구에서 신체 활동, 특히 운동은 불안 증상을 상당히 감소시켰습니다. 비슷하게, 대학생들을 대상으로 한 프론티어 심리학 연구는 6주 동안 정기적으로 저강도에서 중간 강도의 유산소 운동을 하는 것이 그들의 우울증 증상과 인식된 스트레스를 완화하는 데 도움이 된다는 것을 발견했습니다.\n",
      "기분 좋은 화학물질을 방출하기 위해 이동합니다\n",
      "운동이 스트레스 해소에 효과적인 이유는 매우 간단합니다. 운동은 여러분의 몸이 기분을 좋게 하는 신경전달물질인 엔돌핀을 더 많이 생산하도록 합니다. 움직임은 또한 혈류를 개선하면서 스트레스 호르몬인 코르티솔의 상승과 싸웁니다.\n",
      "달리기, 춤, 복싱과 같은 유산소 운동은 스트레스를 완화시키는 기분을 좋게 하는 엔도르핀을 많이 생산합니다. 하지만 걷기와 같은 더 부드러운 운동도 효과가 있습니다.\n",
      "티라카드/애도비 주식\n",
      "펜실베니아 피닉스빌의 임상 사회복지사인 제시카 호니그는 운동을 통해 고객들이 운동을 통해 스트레스를 재설정하고 줄일 수 있는 열쇠를 쥐고 있다는 것을 깨달았기 때문에 고객들에게 힘을 실어줍니다. \"그것은 또한 멈추기 위한 가장 좋은 방법 중 하나입니다. 나선형이고 비생산적인 사고방식에서 에너지를 분리하거나 회복하는 것입니다.\"라고 그녀가 말했습니다.\n",
      "어떤 종류의 운동이 가장 좋습니까? 공부하는 동안\n"
     ]
    }
   ],
   "source": [
    "print(ans)"
   ]
  }
 ],
 "metadata": {
  "kernelspec": {
   "display_name": "ai",
   "language": "python",
   "name": "python3"
  },
  "language_info": {
   "codemirror_mode": {
    "name": "ipython",
    "version": 3
   },
   "file_extension": ".py",
   "mimetype": "text/x-python",
   "name": "python",
   "nbconvert_exporter": "python",
   "pygments_lexer": "ipython3",
   "version": "3.7.15"
  },
  "orig_nbformat": 4,
  "vscode": {
   "interpreter": {
    "hash": "e5cdae407986fbcf9f40eb4f2caf8136385e94546bed8444298080b1cba2358b"
   }
  }
 },
 "nbformat": 4,
 "nbformat_minor": 2
}
